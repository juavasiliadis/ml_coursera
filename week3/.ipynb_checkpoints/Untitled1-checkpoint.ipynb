{
 "cells": [
  {
   "cell_type": "code",
   "execution_count": 47,
   "metadata": {},
   "outputs": [],
   "source": [
    "from sklearn import datasets\n",
    "from sklearn.feature_extraction.text import TfidfVectorizer \n",
    "from sklearn.svm import SVC\n",
    "import numpy as np\n",
    "from sklearn.model_selection import KFold\n",
    "from sklearn.model_selection import GridSearchCV"
   ]
  },
  {
   "cell_type": "code",
   "execution_count": 37,
   "metadata": {},
   "outputs": [],
   "source": [
    "newsgroups = datasets.fetch_20newsgroups(\n",
    "                    subset='all', \n",
    "                    categories=['alt.atheism', 'sci.space']\n",
    ")"
   ]
  },
  {
   "cell_type": "code",
   "execution_count": 38,
   "metadata": {},
   "outputs": [],
   "source": [
    "vectorizer = TfidfVectorizer()\n",
    "X = vectorizer.fit_transform(newsgroups.data)\n",
    "y = newsgroups.target\n"
   ]
  },
  {
   "cell_type": "code",
   "execution_count": 39,
   "metadata": {},
   "outputs": [
    {
     "name": "stdout",
     "output_type": "stream",
     "text": [
      "000021\n"
     ]
    }
   ],
   "source": [
    "feature_mapping = vectorizer.get_feature_names()\n",
    "print (feature_mapping[5])"
   ]
  },
  {
   "cell_type": "code",
   "execution_count": 40,
   "metadata": {},
   "outputs": [
    {
     "data": {
      "text/plain": [
       "SVC(C=1.0, cache_size=200, class_weight=None, coef0=0.0,\n",
       "  decision_function_shape='ovr', degree=3, gamma='auto_deprecated',\n",
       "  kernel='rbf', max_iter=-1, probability=False, random_state=None,\n",
       "  shrinking=True, tol=0.001, verbose=False)"
      ]
     },
     "execution_count": 40,
     "metadata": {},
     "output_type": "execute_result"
    }
   ],
   "source": [
    "clf = SVC()\n",
    "clf.fit(X, y) "
   ]
  },
  {
   "cell_type": "code",
   "execution_count": 50,
   "metadata": {},
   "outputs": [
    {
     "name": "stdout",
     "output_type": "stream",
     "text": [
      "{'C': array([1.e-05, 1.e-04, 1.e-03, 1.e-02, 1.e-01, 1.e+00, 1.e+01, 1.e+02,\n",
      "       1.e+03, 1.e+04, 1.e+05])}\n"
     ]
    }
   ],
   "source": [
    "grid = {'C': np.power(10.0, np.arange(-5, 6))}\n",
    "cvvvivi = KFold(n_splits=5, shuffle=True, random_state=241)\n",
    "clf = SVC(kernel='linear', random_state=241)\n",
    "gs = GridSearchCV(clf, grid, scoring='accuracy', cv=cvvvivi)\n",
    "gs.fit(X, y)\n",
    "print(grid)"
   ]
  },
  {
   "cell_type": "code",
   "execution_count": 58,
   "metadata": {},
   "outputs": [
    {
     "data": {
      "text/plain": [
       "0.9932810750279956"
      ]
     },
     "execution_count": 58,
     "metadata": {},
     "output_type": "execute_result"
    }
   ],
   "source": [
    "gs.best_score_"
   ]
  },
  {
   "cell_type": "code",
   "execution_count": 57,
   "metadata": {},
   "outputs": [
    {
     "data": {
      "text/plain": [
       "{'C': 1.0}"
      ]
     },
     "execution_count": 57,
     "metadata": {},
     "output_type": "execute_result"
    }
   ],
   "source": [
    "gs.best_params_"
   ]
  },
  {
   "cell_type": "code",
   "execution_count": 59,
   "metadata": {},
   "outputs": [
    {
     "data": {
      "text/plain": [
       "SVC(C=1.0, cache_size=200, class_weight=None, coef0=0.0,\n",
       "  decision_function_shape='ovr', degree=3, gamma='auto_deprecated',\n",
       "  kernel='linear', max_iter=-1, probability=False, random_state=241,\n",
       "  shrinking=True, tol=0.001, verbose=False)"
      ]
     },
     "execution_count": 59,
     "metadata": {},
     "output_type": "execute_result"
    }
   ],
   "source": [
    "clf = SVC(C=1.0, kernel='linear', random_state=241)\n",
    "clf.fit(X, y) "
   ]
  },
  {
   "cell_type": "code",
   "execution_count": 104,
   "metadata": {},
   "outputs": [
    {
     "name": "stdout",
     "output_type": "stream",
     "text": [
      "  (0, 11098)\t0.11331531787773705\n",
      "  (0, 6775)\t0.051343208241074294\n",
      "  (0, 5107)\t0.0544519626112153\n",
      "  (0, 98)\t0.05976641330900953\n",
      "  (0, 27042)\t0.10471864296583765\n",
      "  (0, 22622)\t0.10471864296583765\n",
      "  (0, 6135)\t0.10471864296583765\n",
      "  (0, 27130)\t0.00684318140365639\n",
      "  (0, 27083)\t0.00684318140365639\n",
      "  (0, 26026)\t0.007218660562038809\n",
      "  (0, 23036)\t0.006201295542734505\n",
      "  (0, 22982)\t0.007218660562038809\n",
      "  (0, 22762)\t0.007218660562038809\n",
      "  (0, 22739)\t0.007218660562038809\n",
      "  (0, 22595)\t0.007218660562038809\n",
      "  (0, 21945)\t0.00684318140365639\n",
      "  (0, 20801)\t0.014437321124077617\n",
      "  (0, 20800)\t0.04790226982559473\n",
      "  (0, 20042)\t0.021655981686116425\n",
      "  (0, 16400)\t0.016678229045437854\n",
      "  (0, 16224)\t0.007218660562038809\n",
      "  (0, 13928)\t0.007218660562038809\n",
      "  (0, 11716)\t0.007218660562038809\n",
      "  (0, 10127)\t0.00684318140365639\n",
      "  (0, 8938)\t0.007218660562038809\n",
      "  :\t:\n",
      "  (0, 9935)\t0.3248399751938945\n",
      "  (0, 9711)\t-0.09516871224270027\n",
      "  (0, 9622)\t0.03990881301147697\n",
      "  (0, 9368)\t-0.31125053382095497\n",
      "  (0, 9107)\t-0.1575245967541241\n",
      "  (0, 9034)\t0.14484134566730592\n",
      "  (0, 9009)\t-0.3150491935082482\n",
      "  (0, 8498)\t0.011196011024343932\n",
      "  (0, 7951)\t-0.020046259005585838\n",
      "  (0, 7418)\t-0.16263454526432802\n",
      "  (0, 7316)\t-0.08727901120638609\n",
      "  (0, 6702)\t0.441818285927321\n",
      "  (0, 5653)\t-0.1559151237425815\n",
      "  (0, 5621)\t-0.32526909052865605\n",
      "  (0, 5596)\t-0.5016163200110193\n",
      "  (0, 5563)\t0.02790175281582028\n",
      "  (0, 4796)\t-0.3023512213448363\n",
      "  (0, 4455)\t-0.1549028950900121\n",
      "  (0, 4241)\t-0.5643631189867603\n",
      "  (0, 4059)\t-0.03504700765757786\n",
      "  (0, 4040)\t-0.21175962963291572\n",
      "  (0, 3837)\t-0.2877422722956582\n",
      "  (0, 3669)\t-0.23728550334252346\n",
      "  (0, 3601)\t0.18461124362812342\n",
      "  (0, 335)\t-0.2410018045179529\n"
     ]
    }
   ],
   "source": [
    "print(clf.coef_)"
   ]
  },
  {
   "cell_type": "code",
   "execution_count": 99,
   "metadata": {},
   "outputs": [
    {
     "name": "stdout",
     "output_type": "stream",
     "text": [
      "[3]\n"
     ]
    }
   ],
   "source": []
  },
  {
   "cell_type": "code",
   "execution_count": null,
   "metadata": {},
   "outputs": [],
   "source": []
  }
 ],
 "metadata": {
  "kernelspec": {
   "display_name": "Python 3",
   "language": "python",
   "name": "python3"
  },
  "language_info": {
   "codemirror_mode": {
    "name": "ipython",
    "version": 3
   },
   "file_extension": ".py",
   "mimetype": "text/x-python",
   "name": "python",
   "nbconvert_exporter": "python",
   "pygments_lexer": "ipython3",
   "version": "3.6.7"
  }
 },
 "nbformat": 4,
 "nbformat_minor": 2
}
